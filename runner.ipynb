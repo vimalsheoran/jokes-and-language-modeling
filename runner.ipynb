{
 "cells": [
  {
   "cell_type": "markdown",
   "id": "966f98cc-3e44-4b7f-adba-1edf118428ee",
   "metadata": {},
   "source": [
    "# Introduction\n",
    "This notebook allows you to test out different types of language models that are described in the various blogs written by me on the topic of language modelling. The blogs are listed as below."
   ]
  },
  {
   "cell_type": "markdown",
   "id": "43355555-59c6-42ae-8b3c-f2d175f2e092",
   "metadata": {},
   "source": [
    "# Data Processing\n",
    "Run the cells below to preprocess and prepare data for modelling. We will be using the [1 Million Reddit Jokes Dataset](https://www.kaggle.com/datasets/pavellexyr/one-million-reddit-jokes) for this task. The original dataset is in CSV format, we will be extracting raw joke text from this CSV and dump it into a text file which we will use to create our models."
   ]
  },
  {
   "cell_type": "code",
   "execution_count": 1,
   "id": "092eb1eb-6390-4da6-bee9-5ad8063fc18e",
   "metadata": {},
   "outputs": [],
   "source": [
    "import os\n",
    "import pandas as pd"
   ]
  },
  {
   "cell_type": "code",
   "execution_count": 2,
   "id": "3e3dca8c-1854-42f6-bf8c-376999649cd1",
   "metadata": {},
   "outputs": [],
   "source": [
    "raw_file_path = \"data/one-million-reddit-jokes.csv\"\n",
    "raw_df = pd.read_csv(raw_file_path)"
   ]
  },
  {
   "cell_type": "code",
   "execution_count": 3,
   "id": "0c8f8bf3-5416-404b-902e-16b52715f8d7",
   "metadata": {},
   "outputs": [
    {
     "data": {
      "text/html": [
       "<div>\n",
       "<style scoped>\n",
       "    .dataframe tbody tr th:only-of-type {\n",
       "        vertical-align: middle;\n",
       "    }\n",
       "\n",
       "    .dataframe tbody tr th {\n",
       "        vertical-align: top;\n",
       "    }\n",
       "\n",
       "    .dataframe thead th {\n",
       "        text-align: right;\n",
       "    }\n",
       "</style>\n",
       "<table border=\"1\" class=\"dataframe\">\n",
       "  <thead>\n",
       "    <tr style=\"text-align: right;\">\n",
       "      <th></th>\n",
       "      <th>type</th>\n",
       "      <th>id</th>\n",
       "      <th>subreddit.id</th>\n",
       "      <th>subreddit.name</th>\n",
       "      <th>subreddit.nsfw</th>\n",
       "      <th>created_utc</th>\n",
       "      <th>permalink</th>\n",
       "      <th>domain</th>\n",
       "      <th>url</th>\n",
       "      <th>selftext</th>\n",
       "      <th>title</th>\n",
       "      <th>score</th>\n",
       "    </tr>\n",
       "  </thead>\n",
       "  <tbody>\n",
       "    <tr>\n",
       "      <th>0</th>\n",
       "      <td>post</td>\n",
       "      <td>ftbp1i</td>\n",
       "      <td>2qh72</td>\n",
       "      <td>jokes</td>\n",
       "      <td>False</td>\n",
       "      <td>1585785543</td>\n",
       "      <td>https://old.reddit.com/r/Jokes/comments/ftbp1i...</td>\n",
       "      <td>self.jokes</td>\n",
       "      <td>NaN</td>\n",
       "      <td>My corona is covered with foreskin so it is no...</td>\n",
       "      <td>I am soooo glad I'm not circumcised!</td>\n",
       "      <td>2</td>\n",
       "    </tr>\n",
       "    <tr>\n",
       "      <th>1</th>\n",
       "      <td>post</td>\n",
       "      <td>ftboup</td>\n",
       "      <td>2qh72</td>\n",
       "      <td>jokes</td>\n",
       "      <td>False</td>\n",
       "      <td>1585785522</td>\n",
       "      <td>https://old.reddit.com/r/Jokes/comments/ftboup...</td>\n",
       "      <td>self.jokes</td>\n",
       "      <td>NaN</td>\n",
       "      <td>It's called Google Sheets.</td>\n",
       "      <td>Did you know Google now has a platform for rec...</td>\n",
       "      <td>9</td>\n",
       "    </tr>\n",
       "    <tr>\n",
       "      <th>2</th>\n",
       "      <td>post</td>\n",
       "      <td>ftbopj</td>\n",
       "      <td>2qh72</td>\n",
       "      <td>jokes</td>\n",
       "      <td>False</td>\n",
       "      <td>1585785508</td>\n",
       "      <td>https://old.reddit.com/r/Jokes/comments/ftbopj...</td>\n",
       "      <td>self.jokes</td>\n",
       "      <td>NaN</td>\n",
       "      <td>The vacuum doesn't snore after sex.\\n\\n&amp;amp;#x...</td>\n",
       "      <td>What is the difference between my wife and my ...</td>\n",
       "      <td>15</td>\n",
       "    </tr>\n",
       "    <tr>\n",
       "      <th>3</th>\n",
       "      <td>post</td>\n",
       "      <td>ftbnxh</td>\n",
       "      <td>2qh72</td>\n",
       "      <td>jokes</td>\n",
       "      <td>False</td>\n",
       "      <td>1585785428</td>\n",
       "      <td>https://old.reddit.com/r/Jokes/comments/ftbnxh...</td>\n",
       "      <td>self.jokes</td>\n",
       "      <td>NaN</td>\n",
       "      <td>[removed]</td>\n",
       "      <td>My last joke for now.</td>\n",
       "      <td>9</td>\n",
       "    </tr>\n",
       "    <tr>\n",
       "      <th>4</th>\n",
       "      <td>post</td>\n",
       "      <td>ftbjpg</td>\n",
       "      <td>2qh72</td>\n",
       "      <td>jokes</td>\n",
       "      <td>False</td>\n",
       "      <td>1585785009</td>\n",
       "      <td>https://old.reddit.com/r/Jokes/comments/ftbjpg...</td>\n",
       "      <td>self.jokes</td>\n",
       "      <td>NaN</td>\n",
       "      <td>[removed]</td>\n",
       "      <td>The Nintendo 64 turns 18 this week...</td>\n",
       "      <td>134</td>\n",
       "    </tr>\n",
       "  </tbody>\n",
       "</table>\n",
       "</div>"
      ],
      "text/plain": [
       "   type      id subreddit.id subreddit.name  subreddit.nsfw  created_utc  \\\n",
       "0  post  ftbp1i        2qh72          jokes           False   1585785543   \n",
       "1  post  ftboup        2qh72          jokes           False   1585785522   \n",
       "2  post  ftbopj        2qh72          jokes           False   1585785508   \n",
       "3  post  ftbnxh        2qh72          jokes           False   1585785428   \n",
       "4  post  ftbjpg        2qh72          jokes           False   1585785009   \n",
       "\n",
       "                                           permalink      domain  url  \\\n",
       "0  https://old.reddit.com/r/Jokes/comments/ftbp1i...  self.jokes  NaN   \n",
       "1  https://old.reddit.com/r/Jokes/comments/ftboup...  self.jokes  NaN   \n",
       "2  https://old.reddit.com/r/Jokes/comments/ftbopj...  self.jokes  NaN   \n",
       "3  https://old.reddit.com/r/Jokes/comments/ftbnxh...  self.jokes  NaN   \n",
       "4  https://old.reddit.com/r/Jokes/comments/ftbjpg...  self.jokes  NaN   \n",
       "\n",
       "                                            selftext  \\\n",
       "0  My corona is covered with foreskin so it is no...   \n",
       "1                         It's called Google Sheets.   \n",
       "2  The vacuum doesn't snore after sex.\\n\\n&amp;#x...   \n",
       "3                                          [removed]   \n",
       "4                                          [removed]   \n",
       "\n",
       "                                               title  score  \n",
       "0               I am soooo glad I'm not circumcised!      2  \n",
       "1  Did you know Google now has a platform for rec...      9  \n",
       "2  What is the difference between my wife and my ...     15  \n",
       "3                              My last joke for now.      9  \n",
       "4              The Nintendo 64 turns 18 this week...    134  "
      ]
     },
     "execution_count": 3,
     "metadata": {},
     "output_type": "execute_result"
    }
   ],
   "source": [
    "raw_df.head()"
   ]
  },
  {
   "cell_type": "markdown",
   "id": "890997a8-ee04-4ded-9c2c-05b3a62cf039",
   "metadata": {},
   "source": [
    "# Raw Data Preprocessing"
   ]
  },
  {
   "cell_type": "code",
   "execution_count": 4,
   "id": "d2299939-ad4c-49d5-8991-9af62c71b573",
   "metadata": {},
   "outputs": [],
   "source": [
    "# Filter those that are deleted or removed\n",
    "# Remove NaN values\n",
    "removed_or_deleted_title = (raw_df['title'] == '[removed]') | (raw_df['title'] == '[deleted]')\n",
    "removed_or_deleted_text = (raw_df['selftext'] == '[removed]') | (raw_df['selftext'] == '[deleted]')\n",
    "jokes_filtered = raw_df[~removed_or_deleted_title & ~removed_or_deleted_text]\n",
    "jokes_filtered = jokes_filtered.dropna(subset=['title', 'selftext'])"
   ]
  },
  {
   "cell_type": "code",
   "execution_count": 5,
   "id": "462b47ac-f8e8-4659-a141-69a18fec0145",
   "metadata": {},
   "outputs": [
    {
     "name": "stdout",
     "output_type": "stream",
     "text": [
      "Total rows original: 1000000\n",
      "Total rows filtered: 574120\n"
     ]
    }
   ],
   "source": [
    "print(f\"Total rows original: {raw_df.shape[0]}\")\n",
    "print(f\"Total rows filtered: {jokes_filtered.shape[0]}\")"
   ]
  },
  {
   "cell_type": "code",
   "execution_count": 6,
   "id": "5b784223-b6e1-4d32-9e06-e8ed38e9c7e1",
   "metadata": {},
   "outputs": [],
   "source": [
    "# Create a single column to store the joke text\n",
    "# Sometimes the title begins a joke and the self text completes the joke so we'll combine the two accordingly\n",
    "def combine_title_and_text(title, text):\n",
    "    text_preamble = text[0: len(title)]\n",
    "    if text_preamble == title:\n",
    "        return text\n",
    "    return title + \" \" + text\n",
    "\n",
    "jokes_filtered['joke'] = jokes_filtered[['title', 'selftext']].apply(lambda x: combine_title_and_text(x[0], x[1]), axis=1)"
   ]
  },
  {
   "cell_type": "code",
   "execution_count": 7,
   "id": "90b17d09-6aa7-4381-af3b-42cb756b9f0b",
   "metadata": {},
   "outputs": [],
   "source": [
    "# Filter stray characters and non alpha-numeric characters from the string.\n",
    "import re\n",
    "\n",
    "def keep_alphanumeric(input_string):\n",
    "    if type(input_string) is not str:\n",
    "        return \"\"\n",
    "    return re.sub(r'[^a-zA-Z0-9]', ' ', input_string)\n",
    "\n",
    "def remove_stray_single_characters(input_string):\n",
    "    tokens = input_string.split(\" \")\n",
    "    filtered_string = \"\"\n",
    "    for tok in tokens:\n",
    "        if len(tok) > 1:\n",
    "            filtered_string += tok\n",
    "        elif tok in ['I', 'a', 'A', 'm']:\n",
    "            filtered_string += tok\n",
    "        filtered_string += \" \"\n",
    "    return filtered_string.strip()\n",
    "            \n",
    "\n",
    "jokes_filtered['joke'] = jokes_filtered['joke'].apply(keep_alphanumeric)\n",
    "jokes_filtered['joke'] = jokes_filtered['joke'].apply(remove_stray_single_characters)"
   ]
  },
  {
   "cell_type": "code",
   "execution_count": 8,
   "id": "15c0d60f-f698-44aa-985c-0ddd410c005d",
   "metadata": {},
   "outputs": [
    {
     "data": {
      "text/plain": [
       "0     I am soooo glad I m not circumcised  My corona...\n",
       "1     Did you know Google now has a platform for rec...\n",
       "2     What is the difference between my wife and my ...\n",
       "7     What did the French man say to the attractive ...\n",
       "10    Yo Mama Yo momma  so fat  that when she went t...\n",
       "Name: joke, dtype: object"
      ]
     },
     "execution_count": 8,
     "metadata": {},
     "output_type": "execute_result"
    }
   ],
   "source": [
    "jokes_filtered['joke'].head(5)"
   ]
  },
  {
   "cell_type": "markdown",
   "id": "850b853f-bd63-48ac-8ad7-6b47b5e37c82",
   "metadata": {},
   "source": [
    "# Write Jokes to a Text File"
   ]
  },
  {
   "cell_type": "code",
   "execution_count": 9,
   "id": "689c72e1-aa03-41ed-89d9-bc0df418f5b5",
   "metadata": {},
   "outputs": [],
   "source": [
    "joke_file = \"data/jokes.txt\"\n",
    "with open(joke_file, 'w') as f:\n",
    "    for joke in jokes_filtered['joke'].values:\n",
    "        f.write(joke+'\\n')"
   ]
  },
  {
   "cell_type": "code",
   "execution_count": null,
   "id": "1eff3be8-8a5e-4d50-9631-463f956181fa",
   "metadata": {},
   "outputs": [],
   "source": []
  }
 ],
 "metadata": {
  "kernelspec": {
   "display_name": "Python 3 (ipykernel)",
   "language": "python",
   "name": "python3"
  },
  "language_info": {
   "codemirror_mode": {
    "name": "ipython",
    "version": 3
   },
   "file_extension": ".py",
   "mimetype": "text/x-python",
   "name": "python",
   "nbconvert_exporter": "python",
   "pygments_lexer": "ipython3",
   "version": "3.8.5"
  }
 },
 "nbformat": 4,
 "nbformat_minor": 5
}
